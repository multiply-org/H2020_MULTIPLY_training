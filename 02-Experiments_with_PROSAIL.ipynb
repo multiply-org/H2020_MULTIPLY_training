{
 "cells": [
  {
   "cell_type": "markdown",
   "metadata": {
    "toc": true
   },
   "source": [
    "<h1>Table of Contents<span class=\"tocSkip\"></span></h1>\n",
    "<div class=\"toc\"><ul class=\"toc-item\"><li><span><a href=\"#This-implementation-of-PROSAIL\" data-toc-modified-id=\"This-implementation-of-PROSAIL-1\"><span class=\"toc-item-num\">1&nbsp;&nbsp;</span>This implementation of PROSAIL</a></span></li><li><span><a href=\"#Sensitivity-analysis\" data-toc-modified-id=\"Sensitivity-analysis-2\"><span class=\"toc-item-num\">2&nbsp;&nbsp;</span>Sensitivity analysis</a></span></li><li><span><a href=\"#Angular-effects\" data-toc-modified-id=\"Angular-effects-3\"><span class=\"toc-item-num\">3&nbsp;&nbsp;</span>Angular effects</a></span><ul class=\"toc-item\"><li><span><a href=\"#Questions:\" data-toc-modified-id=\"Questions:-3.1\"><span class=\"toc-item-num\">3.1&nbsp;&nbsp;</span>Questions:</a></span></li></ul></li><li><span><a href=\"#A-trip-to-RED/NIR-space\" data-toc-modified-id=\"A-trip-to-RED/NIR-space-4\"><span class=\"toc-item-num\">4&nbsp;&nbsp;</span>A trip to RED/NIR space</a></span></li><li><span><a href=\"#Exploring-the-MTCI-(MERIS-Terrestrial-Chlorophyll-Index)\" data-toc-modified-id=\"Exploring-the-MTCI-(MERIS-Terrestrial-Chlorophyll-Index)-5\"><span class=\"toc-item-num\">5&nbsp;&nbsp;</span>Exploring the MTCI (MERIS Terrestrial Chlorophyll Index)</a></span></li><li><span><a href=\"#So-what-have-we-learned?\" data-toc-modified-id=\"So-what-have-we-learned?-6\"><span class=\"toc-item-num\">6&nbsp;&nbsp;</span>So what have we learned?</a></span></li></ul></div>"
   ]
  },
  {
   "cell_type": "code",
   "execution_count": 1,
   "metadata": {
    "ExecuteTime": {
     "end_time": "2017-05-07T12:59:55.216181Z",
     "start_time": "2017-05-07T12:59:54.903502Z"
    },
    "tags": []
   },
   "outputs": [
    {
     "name": "stderr",
     "output_type": "stream",
     "text": [
      "\n",
      "Bad key keymap.all_axes in file matplotlibrc, line 398 ('keymap.all_axes : a                 # enable all axes')\n",
      "You probably need to get an updated matplotlibrc file from\n",
      "https://github.com/matplotlib/matplotlib/blob/v3.7.1/matplotlibrc.template\n",
      "or from the matplotlib source distribution\n"
     ]
    }
   ],
   "source": [
    "%load_ext autoreload\n",
    "%autoreload 2\n",
    "\n",
    "from prosail_functions import *\n",
    "import numpy as np\n",
    "import matplotlib.pyplot as plt\n",
    "%matplotlib inline\n",
    "\n",
    "import ipywidgets as widgets\n"
   ]
  },
  {
   "cell_type": "markdown",
   "metadata": {},
   "source": [
    "<div style=\"float:right\">\n",
    "    <table>\n",
    "    <tr>\n",
    "        <td> <img src=\"figs/nceo_logo.png\" alt=\"Drawing\" style=\"width:200px;height:40px;\"/> \n",
    "        <td> <img src=\"figs/multiply_logo.png\" alt=\"Drawing\" style=\"width:40px;height:40px;\"/>\n",
    "    </tr>\n",
    "    </table>\n",
    "</div>\n",
    "\n",
    "\n",
    "# Exploring a canopy RT model: PROSAIL\n",
    "\n",
    "**J Gómez-Dans (UCL & NCEO)**\n",
    "\n",
    "\n",
    "## This implementation of PROSAIL\n",
    "\n",
    "There are quite a few different versions of the SAIL model. This is probably the second simplest, as it assumes a single canopy layer, with a simple hotspot correction. The soil boundary is assumed to be Lambertian, and a combination of two soil spectra (typically one wet and one dry). Leaf optical properties are calculated with **PROSPECT D** (which you should already be familiar with). In total, we have 12 input parameters (as well as the illumination/acquisition geometry, controlled by the solar zenith angle, the view zenith angle and the relative azimuth angle). The input parameters are\n",
    "\n",
    "* $N$ (leaf layers)\n",
    "* $Cab$ (chlorophyll ab conc)\n",
    "* $Car$ (carotenoid conc)\n",
    "* $Cbrown$ (senescent pigment\n",
    "* $Cw$ (equivalent leaf water)\n",
    "* $Cm$ (dry matter conc)\n",
    "* $C_{ant}$ (anthocyanin concentration)\n",
    "* LAI (leaf area index)\n",
    "* LIDF (the mean leaf angle)\n",
    "* RSOIL (soil brightness term)\n",
    "* PSOIL (soil moisture factor: 0 wet, 1 dry)\n",
    "* HOTSPOT (the value of the hotspot parameter, typically the ratio of leave size to canopy height)\n",
    "\n",
    "The soil is assumed Lambertian, and made up of the linear combination of two spectra, $\\rho_{s}^{d}$ and $\\rho_{s}^{w}$, dry and wet, respectively. The soil spectrum is calculated as\n",
    "\n",
    "$$\n",
    "\\rho_{s}=R\\cdot\\left(P\\cdot\\rho_{s}^{d} + \\left(1-P\\right)\\cdot \\rho_{s}^{w}\\right).\n",
    "$$\n",
    "\n",
    "This version of PROSAIL uses a Campbell leaf angle distribution function. Rather than choosing discrete distributions, the Campbell function parameterises the LAD function with a single parameter, the mean leaf angle.\n",
    "\n",
    "## Sensitivity analysis\n",
    "\n",
    "The aim of this exercise is to look at the sensitivity of PROSAIL to different parametes spectrally, in a way that is similar to what you did before with PROSPECT. Remember that this experiment is still a local sensitivity analysis experiment around $\\vec{x}_{0}$, so make sure you consider different locations in parameter space. Also consider the effect of acquisition geometry.\n",
    "\n",
    "You can use the following GUI to play around with defining $\\vec{x}_{0}$. \n",
    "\n",
    "* Where do parameters show the most/the least sensitivity spectrally?\n",
    "* Where do these sensitivities change with acquisition geometry?\n",
    "* What is the meaning of P=0 and R=0 for the soil parameterisation? Do you see that in the sensitivity plots?\n",
    "* What happens in the visible part of the spectrum?\n",
    "* What might cause confusion in interpreting any one portion of the spectrum, or just a few bands?\n",
    "* What's surprising about the value of the sensitivity of reflectance to soil for high (>5) LAI and `psoil` and `rsoil`.\n",
    "\n",
    "\n"
   ]
  },
  {
   "cell_type": "code",
   "execution_count": 2,
   "metadata": {
    "tags": []
   },
   "outputs": [
    {
     "data": {
      "application/vnd.jupyter.widget-view+json": {
       "model_id": "d86f1c99a52f41489f04c5c041cabfca",
       "version_major": 2,
       "version_minor": 0
      },
      "text/plain": [
       "VBox(children=(HBox(children=(FloatSlider(value=2.1, description='n', max=2.5, min=1.0), FloatSlider(value=30.…"
      ]
     },
     "metadata": {},
     "output_type": "display_data"
    },
    {
     "data": {
      "application/vnd.jupyter.widget-view+json": {
       "model_id": "eb73d8e5acb4427bababc1611aedb10b",
       "version_major": 2,
       "version_minor": 0
      },
      "text/plain": [
       "Output()"
      ]
     },
     "metadata": {},
     "output_type": "display_data"
    }
   ],
   "source": [
    "prosail_sensitvitiy_gui()"
   ]
  },
  {
   "cell_type": "markdown",
   "metadata": {},
   "source": [
    "## Angular effects\n",
    "\n",
    "An often ignored effect is that of acquisition geometry. In this next plot, we'll look at a plot of reflectance of a fairly optically thick canopy (LAI=4) with the sun (`theta`) at some position, and over the principal solar plane. We show the result of simulating both the NIR and RED bands (865 and 650 nm, respectively) using SAIL. You can also tweak the value of the `h` (hotspot) parameter.\n",
    "\n",
    "### Questions:\n",
    "\n",
    "* What shape do you see in the angular plot?\n",
    "* Can you relate that shape or position to the two parameters?\n",
    "* What would the effect be of not taking into account these angular information?\n",
    "* In practice, what might make the acquisition geometry change for, e.g.\n",
    "    * Sentinel 2/Landsat\n",
    "    * Sentinel 3/OLCI or MODIS\n",
    " "
   ]
  },
  {
   "cell_type": "code",
   "execution_count": 3,
   "metadata": {
    "ExecuteTime": {
     "end_time": "2017-05-07T13:00:00.143348Z",
     "start_time": "2017-05-07T12:59:55.818260Z"
    },
    "tags": []
   },
   "outputs": [
    {
     "data": {
      "application/vnd.jupyter.widget-view+json": {
       "model_id": "28745cc772d644c88b139612f3a1b899",
       "version_major": 2,
       "version_minor": 0
      },
      "text/plain": [
       "interactive(children=(FloatLogSlider(value=0.1, description='h', max=0.0, min=-3.0), FloatSlider(value=30.0, d…"
      ]
     },
     "metadata": {},
     "output_type": "display_data"
    },
    {
     "data": {
      "text/plain": [
       "<function prosail_functions.hspot(h, theta)>"
      ]
     },
     "execution_count": 3,
     "metadata": {},
     "output_type": "execute_result"
    }
   ],
   "source": [
    "widgets.interact(hspot, \n",
    "                h=widgets.FloatLogSlider(min=-3, max=0, value=0.1),\n",
    "                theta=widgets.FloatSlider(min=0, max=70, value=30.))\n"
   ]
  },
  {
   "cell_type": "markdown",
   "metadata": {},
   "source": [
    "## A trip to RED/NIR space\n",
    "\n",
    "Perhaps the first thing you've heard about optical remote sensing is about the use of $NDVI$, the normalised difference vegetation index. This index has a long history (it's 40 years old in 2019!) in remote sensing, and one could say that it is broadly related to the amount of green vegetation. $NDVI$ is calculated using the red and NIR bands (typically, wavelenghts around 680 and 865 nm):\n",
    "\n",
    "$$\n",
    "NDVI=\\frac{NIR-RED}{NIR+RED}.\n",
    "$$\n",
    "As it is a normalised quantity, NDVI goes between -1 and 1, but for vegetation, we usually find that it goes from $\\sim$ 0.2 to 0.9.\n",
    "\n",
    "* $NDVI$ has been correlated to most things. Based on the sensitivity analysis you performed above, can you suggest some of these correlates?\n",
    "\n",
    "* $NDVI$ is often used as a proxy for LAI. You can use the provided function to explore the relationship beween the VI and LAI. What are your observations?\n",
    "* You can set a number of extra *nuisance* parameters to vary randomly. Discuss how the value of these different parameters affects the value of the calculated NDVI, and how it affects your retrieval of e.g. LAI. Relate this to your sensitivity analysis.\n",
    "* You can also change the soil brightness term. What do you observe? Can you explain the physics that give rise to what you observe?\n",
    "* Consider the SAVI index (Soil Adjusted Vegetation Index) $ SAVI = (1-L)\\cdot(NIR - RED)/(NIR+RED+L)$, where $L=0.5$\n",
    "    * What is the role of $L$?\n",
    "* Add some extra nuisance parameters such as \"cm\" and see how the relationship changes\n",
    "* Try different indices and change the imaging geometry. Do you notice any patterns?\n",
    "* These indices only use the red/nir bands, but what does this say about the uniqueness of using an index to retrieve a given parameter?\n",
    "\n",
    "You can have a look at the `canopy_vi_exp` function.  It has a fairly comprehensive argument list, but this has been wrapped in a GUI below. Note that the GUI will execute the simulation whenever you change any of the widgets, and that the simulation and plot generation takes a few seconds to run!\n"
   ]
  },
  {
   "cell_type": "code",
   "execution_count": 4,
   "metadata": {
    "tags": []
   },
   "outputs": [
    {
     "data": {
      "application/vnd.jupyter.widget-view+json": {
       "model_id": "7294f015a83643f194e7dea3e47991ff",
       "version_major": 2,
       "version_minor": 0
      },
      "text/plain": [
       "VBox(children=(HBox(children=(ToggleButton(value=False, description='n'), ToggleButton(value=False, descriptio…"
      ]
     },
     "metadata": {},
     "output_type": "display_data"
    },
    {
     "data": {
      "application/vnd.jupyter.widget-view+json": {
       "model_id": "a69418ab928c4676b8754f3a08696f64",
       "version_major": 2,
       "version_minor": 0
      },
      "text/plain": [
       "Output()"
      ]
     },
     "metadata": {},
     "output_type": "display_data"
    }
   ],
   "source": [
    "canopy_vi_exp_gui()\n"
   ]
  },
  {
   "cell_type": "markdown",
   "metadata": {},
   "source": [
    "## Exploring the MTCI (MERIS Terrestrial Chlorophyll Index)\n",
    "\n",
    "The MTCI is a vegetation index that was developed for data from the MERIS sensor onboard the ENVISAT platform (S3/OLCI is the evolution of the MERIS sensor), and that relates surface reflectance to canopy chlorophyll content. The index is defined as the ratio of reflectance differences between MERIS bands 10 and 9 to reflectance differences between bands 9 and 8. \n",
    "\n",
    "$$\n",
    "MTCI = \\frac{R_{753}-R_{705}}{R_{705}-R_{681}},\n",
    "$$\n",
    "where $R_{x}$ indicated reflectance for a waveband whose centre wavelength is located at $x$. In this experiment, we will use PROSAIL to look at the robustness of such an index. We note that the bandwidth of these three bands is 7.5, 10 and 7.5 $nm$.\n",
    "\n",
    "* A first experiment will be to determine the strength of the relationship just sweeping over the chlorophyll concentration while keeping all other parameters fixed. Try different regions of parameters space (e.g. set ``x0`` to some other value).\n",
    "* As a second experiment, add some *nuisance parameters*: e.g. add a random variation variation to other parameters other than $C_{ab}$. The variation in this parameters is controlled by the ``minvals`` and ``maxvals`` dictionaries. Comment on the results, and in particular, in the robustness of the regression.\n",
    "* A third experiment will also add some noise using the ``noise_level`` parameters. We can assume that ``noise_level`` is the standard deviation of some additive Gaussian noise. Values of 0.01 are probably optimistic for the type of atmospheric correction we typically get.\n",
    "* Finally, observe the changes in the $MTCI-C_{ab}$ relationship for different acquisition geometries.\n",
    "\n",
    "\n"
   ]
  },
  {
   "cell_type": "code",
   "execution_count": 6,
   "metadata": {},
   "outputs": [
    {
     "data": {
      "application/vnd.jupyter.widget-view+json": {
       "model_id": "f402ef7ac710435f9657b6f75839e61d",
       "version_major": 2,
       "version_minor": 0
      },
      "text/plain": [
       "VBox(children=(HBox(children=(ToggleButton(value=False, description='n'), ToggleButton(value=True, description…"
      ]
     },
     "metadata": {},
     "output_type": "display_data"
    },
    {
     "data": {
      "application/vnd.jupyter.widget-view+json": {
       "model_id": "b289aa11a8e04b6792911bcfdc390a43",
       "version_major": 2,
       "version_minor": 0
      },
      "text/plain": [
       "Output()"
      ]
     },
     "metadata": {},
     "output_type": "display_data"
    }
   ],
   "source": [
    "canopy_mtci_exp_gui()\n"
   ]
  },
  {
   "cell_type": "markdown",
   "metadata": {},
   "source": [
    "## So what have we learned?\n",
    "\n",
    "In the previous examples we have explored the PROSAIL model. Some of the things you should have noticed are:\n",
    "\n",
    "* Parameters relating to particular pigments tend to have well defined spectral ranges where they have a large effect.\n",
    "* Structural parameters such as LAI, or ALA have an influence throughout the whole spectrum\n",
    "* Soil plays an important role. Even in high canopy cover areas, due to the high single scattering albedo of leaves in the NIR region, the soil signal is clearly present in the canopy reflectance.\n",
    "* Angles (sun and sensor acquisition geometry) play an important role in the measured reflectance.\n",
    "* Vegetation indices can be used to relate reflectance in a couple of bands to some parameters. However, when one explores the typical variation of the problem, one finds that their predictive power is limited and that other \"nuisance parameters\" reduce their ability to uniquely define the target variable\n",
    "* It is possible to train indices with an RT model for a reduced set of conditions, but in these cases, it may be more sensible to use other non-linear regression methods.\n",
    "\n",
    "The above comments suggest that going from canopy reflectance to a set of parameters (the so-called \"inverse problem\") is complicated. Effects resulting in a spectral overlap, added noise (either from the sensor, or from e.g. residual atmospheric corrections), and other confounding parameters, coupled with the limited spectral and temporal sampling make inversions hard.\n",
    "\n",
    "The next notebooks will look at ways to improve on this."
   ]
  },
  {
   "cell_type": "markdown",
   "metadata": {},
   "source": [
    "<a rel=\"license\" href=\"http://creativecommons.org/licenses/by-nc/4.0/\"><img alt=\"Creative Commons Licence\" style=\"border-width:0\" src=\"https://i.creativecommons.org/l/by-nc/4.0/88x31.png\" /></a><br />This work is licensed under a <a rel=\"license\" href=\"http://creativecommons.org/licenses/by-nc/4.0/\">Creative Commons Attribution-NonCommercial 4.0 International License</a>."
   ]
  },
  {
   "cell_type": "code",
   "execution_count": null,
   "metadata": {},
   "outputs": [],
   "source": []
  }
 ],
 "metadata": {
  "kernelspec": {
   "display_name": "Python 3 (ipykernel)",
   "language": "python",
   "name": "python3"
  },
  "language_info": {
   "codemirror_mode": {
    "name": "ipython",
    "version": 3
   },
   "file_extension": ".py",
   "mimetype": "text/x-python",
   "name": "python",
   "nbconvert_exporter": "python",
   "pygments_lexer": "ipython3",
   "version": "3.10.9"
  },
  "latex_envs": {
   "LaTeX_envs_menu_present": true,
   "bibliofile": "biblio.bib",
   "cite_by": "apalike",
   "current_citInitial": 1,
   "eqLabelWithNumbers": true,
   "eqNumInitial": 1,
   "hotkeys": {
    "equation": "Ctrl-E",
    "itemize": "Ctrl-I"
   },
   "labels_anchors": false,
   "latex_user_defs": false,
   "report_style_numbering": false,
   "user_envs_cfg": false
  },
  "toc": {
   "base_numbering": 1,
   "nav_menu": {},
   "number_sections": true,
   "sideBar": true,
   "skip_h1_title": true,
   "title_cell": "Table of Contents",
   "title_sidebar": "Contents",
   "toc_cell": true,
   "toc_position": {},
   "toc_section_display": true,
   "toc_window_display": false
  },
  "varInspector": {
   "cols": {
    "lenName": 16,
    "lenType": 16,
    "lenVar": 40
   },
   "kernels_config": {
    "python": {
     "delete_cmd_postfix": "",
     "delete_cmd_prefix": "del ",
     "library": "var_list.py",
     "varRefreshCmd": "print(var_dic_list())"
    },
    "r": {
     "delete_cmd_postfix": ") ",
     "delete_cmd_prefix": "rm(",
     "library": "var_list.r",
     "varRefreshCmd": "cat(var_dic_list()) "
    }
   },
   "types_to_exclude": [
    "module",
    "function",
    "builtin_function_or_method",
    "instance",
    "_Feature"
   ],
   "window_display": false
  }
 },
 "nbformat": 4,
 "nbformat_minor": 4
}
